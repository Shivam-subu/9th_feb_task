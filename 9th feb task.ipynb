{
 "cells": [
  {
   "cell_type": "markdown",
   "id": "698701e1-a234-4567-a62f-444dbc47a3aa",
   "metadata": {},
   "source": []
  },
  {
   "cell_type": "markdown",
   "id": "28ae087e-f411-4459-b6d4-f97f256871a0",
   "metadata": {},
   "source": [
    "Q1, Create a vehicle class with an init method having instance variables as name_of_vehicle, max_speed\n",
    "and average_of_vehicle.\n",
    "ans. \n"
   ]
  },
  {
   "cell_type": "code",
   "execution_count": 35,
   "id": "61b69981-e7d0-439d-8963-66014a3b9499",
   "metadata": {},
   "outputs": [],
   "source": [
    "class Vehicle:\n",
    "    def __init__(self, name_of_vehicle, max_speed, average_of_vehicle):\n",
    "        self.name_of_vehicle = name_of_vehicle\n",
    "        self.max_speed = max_speed\n",
    "        self.average_of_vehicle = average_of_vehicle\n"
   ]
  },
  {
   "cell_type": "code",
   "execution_count": 36,
   "id": "b86ee120-c77f-450b-8cef-e4640d8dfa98",
   "metadata": {},
   "outputs": [
    {
     "name": "stdout",
     "output_type": "stream",
     "text": [
      "Car\n",
      "200\n",
      "30.5\n"
     ]
    }
   ],
   "source": [
    "\n",
    "my_vehicle = Vehicle(\"Car\", 200, 30.5)\n",
    "\n",
    "print(my_vehicle.name_of_vehicle)        \n",
    "print(my_vehicle.max_speed)              \n",
    "print(my_vehicle.average_of_vehicle)     "
   ]
  },
  {
   "cell_type": "markdown",
   "id": "c7f9199f-ef01-4dbc-8ccb-17e1d989d1ac",
   "metadata": {},
   "source": [
    "Q2. Create a child class car from the vehicle class created in Que 1, which will inherit the vehicle class.\n",
    "Create a method named seating_capacity which takes capacity as an argument and returns the name of\n",
    "the vehicle and its seating capacity.\n",
    "ans."
   ]
  },
  {
   "cell_type": "code",
   "execution_count": 37,
   "id": "5e8b473a-7840-4c43-8b82-fb37b1951d17",
   "metadata": {},
   "outputs": [],
   "source": [
    "class Vehicle:\n",
    "    def __init__(self, name_of_vehicle, max_speed, average_of_vehicle):\n",
    "        self.name_of_vehicle = name_of_vehicle\n",
    "        self.max_speed = max_speed\n",
    "        self.average_of_vehicle = average_of_vehicle\n"
   ]
  },
  {
   "cell_type": "code",
   "execution_count": 39,
   "id": "f94701c3-57e5-42fa-8391-79338980df38",
   "metadata": {},
   "outputs": [],
   "source": [
    "class Car(Vehicle):\n",
    "    def __init__(self, name_of_vehicle, max_speed, average_of_vehicle):\n",
    "        super().__init__(name_of_vehicle, max_speed, average_of_vehicle)\n",
    "\n",
    "    def seating_capacity(self, capacity):\n",
    "        return f\"The {self.name_of_vehicle} has a seating capacity of {capacity} people.\"\n"
   ]
  },
  {
   "cell_type": "code",
   "execution_count": 40,
   "id": "c2577712-c35c-4f55-9b84-2a612029b613",
   "metadata": {},
   "outputs": [
    {
     "name": "stdout",
     "output_type": "stream",
     "text": [
      "The Toyota Corolla has a seating capacity of 5 people.\n"
     ]
    }
   ],
   "source": [
    "my_car = Car(\"Toyota Corolla\", 180, 4)\n",
    "print(my_car.seating_capacity(5))\n"
   ]
  },
  {
   "cell_type": "markdown",
   "id": "db73963a-f001-40b9-951d-f6437427bbfa",
   "metadata": {},
   "source": [
    "Q3. What is multiple inheritance? Write a python code to demonstrate multiple inheritance.\n",
    "Ans. \n",
    "\n",
    "Multiple inheritance is a feature in object-oriented programming languages that allows a class to inherit attributes and methods from more than one parent class. In multiple inheritance, a child class can inherit from multiple parent classes, incorporating their functionalities into a single derived class.\n",
    "\n",
    "class Vehicle:\n",
    "    def __init__(self, name):\n",
    "        self.name = name\n",
    "\n",
    "\n",
    "class Convertible:\n",
    "    def open_roof(self):\n",
    "        print(\"Roof is open.\")\n",
    "\n",
    "\n",
    "\n",
    "class SportsCar(Vehicle, Convertible):\n",
    "    def __init__(self, name):\n",
    "        super().__init__(name)\n",
    "\n",
    "\n",
    "my_car = SportsCar(\"Ferrari\")\n",
    "my_car.show_info()  \n",
    "my_car.drive()      \n",
    "my_car.open_roof() \n",
    "my_car.close_roof() \n",
    "\n",
    "\n",
    "Vehicle, Convertible, and SportsCar. The Vehicle class represents a basic vehicle with a drive method. The Convertible class represents a convertible vehicle with methods to open and close the roof. The SportsCar class is a child class that inherits from both Vehicle and Convertible classes using multiple inheritance.\n",
    "\n",
    "The SportsCar class inherits the drive method from the Vehicle class and the open_roof and close_roof methods from the Convertible class. It also has its own method show_info specific to a sports car.\n",
    "\n",
    "When we create an instance of the SportsCar class and call its methods, it can access methods from both the Vehicle and Convertible classes due to multiple inheritance."
   ]
  },
  {
   "cell_type": "markdown",
   "id": "037cc814-55cd-4b9c-90a6-4b55a4f53197",
   "metadata": {},
   "source": [
    "Q4. What are getter and setter in python? Create a class and create a getter and a setter method in this\n",
    "class."
   ]
  },
  {
   "cell_type": "code",
   "execution_count": 45,
   "id": "94d882b9-3b29-4af4-aa2c-9c3da28f6428",
   "metadata": {
    "tags": []
   },
   "outputs": [],
   "source": [
    "\n",
    "class Rectangle:\n",
    "    def __init__(self, width, height):\n",
    "        self._width = width\n",
    "        self._height = height\n",
    "\n",
    "    @property\n",
    "    def width(self):\n",
    "        return self._width\n",
    "\n",
    "    @width.setter\n",
    "    def width(self, value):\n",
    "        if value > 0:\n",
    "            self._width = value\n",
    "        else:\n",
    "            print(\"Width must be greater than 0.\")\n",
    "\n",
    "    @property\n",
    "    def height(self):\n",
    "        return self._height\n",
    "\n",
    "    @height.setter\n",
    "    def height(self, value):\n",
    "        if value > 0:\n",
    "            self._height = value\n",
    "        else:\n",
    "            print(\"Height must be greater than 0.\")\n",
    "            \n",
    "            "
   ]
  },
  {
   "cell_type": "markdown",
   "id": "0bf8d4d3-9818-495b-a4b1-476348035bda",
   "metadata": {},
   "source": [
    " the Rectangle class has two attributes: _width and _height. We define getter and setter methods using the @property decorator.\n",
    "\n",
    "The getter methods (@property methods) allow us to access the attributes as if they were regular attributes, without explicitly calling a method.\n",
    "\n",
    "The setter methods (@width.setter and @height.setter) allow us to modify the attributes while performing any necessary validations or operations. We use the @property decorator with the corresponding setter methods to define them as setters."
   ]
  },
  {
   "cell_type": "code",
   "execution_count": 46,
   "id": "94f3167c-e9d5-490b-a19a-701626ea4147",
   "metadata": {},
   "outputs": [
    {
     "name": "stdout",
     "output_type": "stream",
     "text": [
      "10\n",
      "5\n",
      "20\n",
      "8\n",
      "Width must be greater than 0.\n",
      "Height must be greater than 0.\n"
     ]
    }
   ],
   "source": [
    "rect = Rectangle(10, 5)\n",
    "print(rect.width)  \n",
    "print(rect.height) \n",
    "\n",
    "rect.width = 20\n",
    "rect.height = 8\n",
    "\n",
    "print(rect.width)  \n",
    "print(rect.height)  \n",
    "\n",
    "rect.width = -5     \n",
    "rect.height = 0     \n"
   ]
  },
  {
   "cell_type": "markdown",
   "id": "16ef95df-48df-4522-abae-95b0d8fb4720",
   "metadata": {},
   "source": [
    " an instance of the Rectangle class named rect is created with width 10 and height 5. The getter methods (rect.width and rect.height) are used to retrieve the values of the attributes. The setter methods (rect.width = 20 and rect.height = 8) are used to modify the attributes, and validations are performed to ensure the values meet the specified criteria."
   ]
  },
  {
   "cell_type": "markdown",
   "id": "37b348f3-bba4-4a72-b9c2-83dee8a4878f",
   "metadata": {},
   "source": [
    "Q5.What is method overriding in python? Write a python code to demonstrate method overriding."
   ]
  },
  {
   "cell_type": "code",
   "execution_count": 47,
   "id": "3ab8c86f-b400-4f69-b3c1-1adce5e87871",
   "metadata": {},
   "outputs": [],
   "source": [
    "class Vehicle:\n",
    "    def drive(self):\n",
    "        print(\"Driving the vehicle.\")\n"
   ]
  },
  {
   "cell_type": "code",
   "execution_count": 48,
   "id": "eb6dee4c-a382-41bc-ae7f-054e0ead5665",
   "metadata": {},
   "outputs": [],
   "source": [
    "class Car(Vehicle):\n",
    "    def drive(self):\n",
    "        print(\"Driving the car.\")\n"
   ]
  },
  {
   "cell_type": "code",
   "execution_count": 49,
   "id": "522fe188-7276-444b-baf3-cd0b7824592a",
   "metadata": {},
   "outputs": [],
   "source": [
    "class Motorcycle(Vehicle):\n",
    "    def drive(self):\n",
    "        print(\"Driving the motorcycle.\")\n"
   ]
  },
  {
   "cell_type": "code",
   "execution_count": 50,
   "id": "df03e423-8aad-47b2-b1bd-ccfbfc61d283",
   "metadata": {},
   "outputs": [
    {
     "name": "stdout",
     "output_type": "stream",
     "text": [
      "Driving the vehicle.\n",
      "Driving the car.\n",
      "Driving the motorcycle.\n"
     ]
    }
   ],
   "source": [
    "vehicle = Vehicle()\n",
    "vehicle.drive()       \n",
    "\n",
    "car = Car()\n",
    "car.drive()         \n",
    "\n",
    "motorcycle = Motorcycle()\n",
    "motorcycle.drive()   \n"
   ]
  },
  {
   "cell_type": "code",
   "execution_count": null,
   "id": "24883d43-826c-41b6-a643-0d737ee63d83",
   "metadata": {},
   "outputs": [],
   "source": []
  },
  {
   "cell_type": "code",
   "execution_count": null,
   "id": "a4bb488b-ff6d-40b0-a3f7-7831980c9b27",
   "metadata": {},
   "outputs": [],
   "source": []
  },
  {
   "cell_type": "code",
   "execution_count": null,
   "id": "13733bad-d4d5-4261-905e-9d0fc7291803",
   "metadata": {},
   "outputs": [],
   "source": []
  },
  {
   "cell_type": "code",
   "execution_count": null,
   "id": "d48bab4e-ba74-494c-97e1-7f0dadd6cc67",
   "metadata": {},
   "outputs": [],
   "source": []
  },
  {
   "cell_type": "code",
   "execution_count": null,
   "id": "0d051a24-00d2-49a8-afa0-57d48746b23b",
   "metadata": {},
   "outputs": [],
   "source": []
  }
 ],
 "metadata": {
  "kernelspec": {
   "display_name": "Python 3 (ipykernel)",
   "language": "python",
   "name": "python3"
  },
  "language_info": {
   "codemirror_mode": {
    "name": "ipython",
    "version": 3
   },
   "file_extension": ".py",
   "mimetype": "text/x-python",
   "name": "python",
   "nbconvert_exporter": "python",
   "pygments_lexer": "ipython3",
   "version": "3.10.8"
  }
 },
 "nbformat": 4,
 "nbformat_minor": 5
}
